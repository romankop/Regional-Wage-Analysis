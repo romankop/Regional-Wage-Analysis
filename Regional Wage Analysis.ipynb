{
 "cells": [
  {
   "cell_type": "markdown",
   "metadata": {},
   "source": [
    "### Исследование зарплат в России за октябрь в России"
   ]
  },
  {
   "cell_type": "markdown",
   "metadata": {},
   "source": [
    "Цель данной работы: статистически проанализировать данные о заработной в плате в России за конкретный месяц (октябрь 2019 года).\n",
    "\n",
    "Автор: Копыл Роман"
   ]
  },
  {
   "cell_type": "code",
   "execution_count": 185,
   "metadata": {},
   "outputs": [],
   "source": [
    "import numpy as np\n",
    "import pandas as pd\n",
    "%matplotlib inline\n",
    "import matplotlib.pyplot as plt\n",
    "from scipy.stats import skewnorm, lognorm\n",
    "np.random.seed(42)"
   ]
  },
  {
   "cell_type": "markdown",
   "metadata": {},
   "source": [
    "1. Загрузим датасет с информацией о средних заработных платах по каждому региону России за октябрь 2019 года."
   ]
  },
  {
   "cell_type": "code",
   "execution_count": 295,
   "metadata": {},
   "outputs": [
    {
     "data": {
      "text/html": [
       "<div>\n",
       "<style scoped>\n",
       "    .dataframe tbody tr th:only-of-type {\n",
       "        vertical-align: middle;\n",
       "    }\n",
       "\n",
       "    .dataframe tbody tr th {\n",
       "        vertical-align: top;\n",
       "    }\n",
       "\n",
       "    .dataframe thead th {\n",
       "        text-align: right;\n",
       "    }\n",
       "</style>\n",
       "<table border=\"1\" class=\"dataframe\">\n",
       "  <thead>\n",
       "    <tr style=\"text-align: right;\">\n",
       "      <th></th>\n",
       "      <th>Средняя з/п (10.2019)</th>\n",
       "    </tr>\n",
       "    <tr>\n",
       "      <th>Субъект России</th>\n",
       "      <th></th>\n",
       "    </tr>\n",
       "  </thead>\n",
       "  <tbody>\n",
       "    <tr>\n",
       "      <td>Алтайский край</td>\n",
       "      <td>28265.5</td>\n",
       "    </tr>\n",
       "    <tr>\n",
       "      <td>Амурская область</td>\n",
       "      <td>48242.3</td>\n",
       "    </tr>\n",
       "    <tr>\n",
       "      <td>Архангельская область</td>\n",
       "      <td>48515.3</td>\n",
       "    </tr>\n",
       "    <tr>\n",
       "      <td>Астраханская область</td>\n",
       "      <td>34601.4</td>\n",
       "    </tr>\n",
       "    <tr>\n",
       "      <td>Белгородская область</td>\n",
       "      <td>35324.3</td>\n",
       "    </tr>\n",
       "  </tbody>\n",
       "</table>\n",
       "</div>"
      ],
      "text/plain": [
       "                       Средняя з/п (10.2019)\n",
       "Субъект России                              \n",
       "Алтайский край                       28265.5\n",
       "Амурская область                     48242.3\n",
       "Архангельская область                48515.3\n",
       "Астраханская область                 34601.4\n",
       "Белгородская область                 35324.3"
      ]
     },
     "execution_count": 295,
     "metadata": {},
     "output_type": "execute_result"
    }
   ],
   "source": [
    "salaries = pd.read_excel('data_stat.xlsx', sheet_name='Зарплаты', index_col=0, usecols=[0,10])\n",
    "salaries.rename(columns={'октябрь': 'Средняя з/п (10.2019)'}, inplace=True)\n",
    "salaries.head()"
   ]
  },
  {
   "cell_type": "markdown",
   "metadata": {},
   "source": [
    "2. Загрузим датасет с данными о населении каждого региона на 1 января 2019 года. Будем считать, что население изменилось не значительно и изменения не повлияют на результаты исследования."
   ]
  },
  {
   "cell_type": "code",
   "execution_count": 18,
   "metadata": {},
   "outputs": [
    {
     "data": {
      "text/html": [
       "<div>\n",
       "<style scoped>\n",
       "    .dataframe tbody tr th:only-of-type {\n",
       "        vertical-align: middle;\n",
       "    }\n",
       "\n",
       "    .dataframe tbody tr th {\n",
       "        vertical-align: top;\n",
       "    }\n",
       "\n",
       "    .dataframe thead th {\n",
       "        text-align: right;\n",
       "    }\n",
       "</style>\n",
       "<table border=\"1\" class=\"dataframe\">\n",
       "  <thead>\n",
       "    <tr style=\"text-align: right;\">\n",
       "      <th></th>\n",
       "      <th>Население (01.01.2019)</th>\n",
       "    </tr>\n",
       "    <tr>\n",
       "      <th>Субъект России</th>\n",
       "      <th></th>\n",
       "    </tr>\n",
       "  </thead>\n",
       "  <tbody>\n",
       "    <tr>\n",
       "      <td>Алтайский край</td>\n",
       "      <td>2332813</td>\n",
       "    </tr>\n",
       "    <tr>\n",
       "      <td>Амурская область</td>\n",
       "      <td>793194</td>\n",
       "    </tr>\n",
       "    <tr>\n",
       "      <td>Архангельская область</td>\n",
       "      <td>1144119</td>\n",
       "    </tr>\n",
       "    <tr>\n",
       "      <td>Астраханская область</td>\n",
       "      <td>1014065</td>\n",
       "    </tr>\n",
       "    <tr>\n",
       "      <td>Белгородская область</td>\n",
       "      <td>1547418</td>\n",
       "    </tr>\n",
       "  </tbody>\n",
       "</table>\n",
       "</div>"
      ],
      "text/plain": [
       "                       Население (01.01.2019)\n",
       "Субъект России                               \n",
       "Алтайский край                        2332813\n",
       "Амурская область                       793194\n",
       "Архангельская область                 1144119\n",
       "Астраханская область                  1014065\n",
       "Белгородская область                  1547418"
      ]
     },
     "execution_count": 18,
     "metadata": {},
     "output_type": "execute_result"
    }
   ],
   "source": [
    "population = pd.read_excel('data_stat.xlsx', sheet_name='Население', index_col=0)\n",
    "population.head()"
   ]
  },
  {
   "cell_type": "markdown",
   "metadata": {},
   "source": [
    "3. Найдем медиану, среднее значение и стандартное отклонение средних зарплат по регионам"
   ]
  },
  {
   "cell_type": "code",
   "execution_count": 291,
   "metadata": {},
   "outputs": [
    {
     "name": "stdout",
     "output_type": "stream",
     "text": [
      "Медианное значение средних зарплат по регионам: 35324.3 рублей\n",
      "Среднее значение средних зарплат по регионам: 41264.0 рубля\n",
      "Стандартное отклонение средних зарплат по регионам: 16831.3 рублей\n"
     ]
    }
   ],
   "source": [
    "med0 = salaries.median().values[0]\n",
    "print('Медианное значение средних зарплат по регионам: ' + str(med) + ' рублей')\n",
    "\n",
    "mean0 = salaries.mean().values[0]\n",
    "print('Среднее значение средних зарплат по регионам: ' + str(round(mean0,1)) + ' рубля')\n",
    "\n",
    "std0 = salaries.std().values[0]\n",
    "print('Стандартное отклонение средних зарплат по регионам: ' + str(round(std0,1)) + ' рублей')"
   ]
  },
  {
   "cell_type": "markdown",
   "metadata": {},
   "source": [
    "4. Построим график распределения средних зарплат по регионам"
   ]
  },
  {
   "cell_type": "code",
   "execution_count": 396,
   "metadata": {
    "scrolled": true
   },
   "outputs": [
    {
     "data": {
      "image/png": "[encoded data removed]",
      "text/plain": [
       "<Figure size 1440x432 with 1 Axes>"
      ]
     },
     "metadata": {
      "needs_background": "light"
     },
     "output_type": "display_data"
    }
   ],
   "source": [
    "plt.figure(figsize=(20,6))\n",
    "\n",
    "plt.hist(salaries.values, color='lightblue')\n",
    "plt.axvline(med0, color='k', linestyle='dashed', linewidth=2)\n",
    "plt.axvline(mean0, color='gray', linestyle='dashed', linewidth=2)\n",
    "\n",
    "min_ylim, max_ylim = plt.ylim()\n",
    "plt.text(mean0*1.02, max_ylim*0.76, ' Mean:\\n{:.2f}'.format(mean0))\n",
    "plt.text(med0*0.88, max_ylim*0.76, ' Median:\\n{:.2f}'.format(med0), color='black')\n",
    "plt.xlabel('Зарплата (руб.)')\n",
    "plt.title('Распределение средних зарплат регионов (10.2019)');"
   ]
  },
  {
   "cell_type": "markdown",
   "metadata": {},
   "source": [
    "5. Построим эмпирическую функцию распределения средних зарплат по регионам"
   ]
  },
  {
   "cell_type": "code",
   "execution_count": 391,
   "metadata": {},
   "outputs": [],
   "source": [
    "salaries_values = []\n",
    "for i, j in zip(salaries.values.flatten(), population.values.flatten() // 10000):\n",
    "    salaries_values += [i] * 1\n",
    "salaries_values = pd.Series(salaries_values)"
   ]
  },
  {
   "cell_type": "code",
   "execution_count": 395,
   "metadata": {},
   "outputs": [
    {
     "data": {
      "image/png": "[encoded data removed]",
      "text/plain": [
       "<Figure size 864x432 with 1 Axes>"
      ]
     },
     "metadata": {
      "needs_background": "light"
     },
     "output_type": "display_data"
    }
   ],
   "source": [
    "x, y = ecdf(salaries_values)\n",
    "\n",
    "# Generate plot\n",
    "plt.figure(figsize=(12,6))\n",
    "plt.plot(x, y, marker='.', linestyle= 'none', color='steelblue')\n",
    "\n",
    "# Label the axes\n",
    "plt.xlabel('Зарплата (руб.)')\n",
    "plt.ylabel(\"ECDF\")\n",
    "plt.title('Эмпирическая кумулятивная функция распределения средних зарплат по регионам')\n",
    "\n",
    "# Display the plot\n",
    "plt.show();"
   ]
  },
  {
   "cell_type": "markdown",
   "metadata": {},
   "source": [
    "6. Отметим, что на предыдущих этапах наблюдения были некорректны, так как каждое значение средней зарплаты имело в нашей выборке одинаковый вес, но в реальности у регионов разное население, что вносит свой вклад в общее распределение зарплаты в стране. Логично было бы, чтобы веса среднейй зарплаты задавались бы населением региона. Но давайте пойдем дальше и смоделируем возможные зарплаты. Как мы часто слышали, распределение зарплат соответствует нормальному распределению, скошенному в сторону меньших значений. Поэтому для каждого региона я сгененирую набор значений возможных заработных плат, соответствующий нормальному распределению со средним, равным средней зарплате по региону и коэффициенту ассиметрии, равному 2.5. В качестве стандартного отклонения возьмем половину стандартного отклонения выборки средних зарплат, добавив, что я предполагаю, что стандартное отклонение по средним регионов является верхней границей оценки этого параметра для всех зарплат по стране, а страты, которые представляют из себя множества зарплат, соответствующие жителям одного региона, имеют дисперсию меньше, чем дисперсия по стране. То есть, мы пользуемся верхней оценкой дисперсии внутри группы.\n",
    "\n",
    "Итак, для начала сгенерируем выборку из смоделированных значений."
   ]
  },
  {
   "cell_type": "code",
   "execution_count": 195,
   "metadata": {},
   "outputs": [],
   "source": [
    "#Initilize functions generating items frow skewed normal distributions\n",
    "\n",
    "def rand_skew_norm(alpha, loc, scale):\n",
    "    sigma = alpha / np.sqrt(1.0 + alpha ** 2) \n",
    "\n",
    "    u0, v = np.random.randn(2)\n",
    "    u1 = sigma * u0 + np.sqrt(1.0 - sigma ** 2) * v \n",
    "\n",
    "    if u0 >= 0:\n",
    "        return u1 * scale + loc \n",
    "    \n",
    "    return (-u1) * scale + loc \n",
    "\n",
    "def randn_skew(N, skew, mean, std):\n",
    "    skew_list = []\n",
    "    for _ in range(N):\n",
    "        skew_list += list(rand_skew_norm(skew, mean, std))\n",
    "    return skew_list"
   ]
  },
  {
   "cell_type": "code",
   "execution_count": 382,
   "metadata": {},
   "outputs": [],
   "source": [
    "salaries_full = [] \n",
    "for i, j in zip(salaries.values.flatten(), population.values.flatten() // 10000):\n",
    "    salaries_full += randn_skew(j, -10, i, salaries.std()/2)\n",
    "salaries_full = pd.Series(salaries_full)"
   ]
  },
  {
   "cell_type": "markdown",
   "metadata": {},
   "source": [
    "7. Выведем основные характеристики новых данных"
   ]
  },
  {
   "cell_type": "code",
   "execution_count": 383,
   "metadata": {},
   "outputs": [
    {
     "name": "stdout",
     "output_type": "stream",
     "text": [
      "Медианное значение смоделированных зарплат по России: 31966.9 рублей\n",
      "Среднее значение смоделированных зарплат по России: 37151.3 рублей\n",
      "Стандартное отклонение средних зарплат по регионам: 17992.8 рублей\n"
     ]
    }
   ],
   "source": [
    "med1 = salaries_full.median()\n",
    "print('Медианное значение смоделированных зарплат по России: ' + str(round(med1,1)) + ' рублей')\n",
    "\n",
    "mean1 = salaries_full.mean()\n",
    "print('Среднее значение смоделированных зарплат по России: ' + str(round(mean1,1)) + ' рублей')\n",
    "\n",
    "std1 = salaries_full.std()\n",
    "print('Стандартное отклонение средних зарплат по регионам: ' + str(round(std1,1)) + ' рублей')"
   ]
  },
  {
   "cell_type": "markdown",
   "metadata": {},
   "source": [
    "8. Построим график распределения смоделированных средних зарплат по стране"
   ]
  },
  {
   "cell_type": "code",
   "execution_count": 394,
   "metadata": {
    "scrolled": true
   },
   "outputs": [
    {
     "data": {
      "image/png": "[encoded data removed]",
      "text/plain": [
       "<Figure size 1440x432 with 1 Axes>"
      ]
     },
     "metadata": {
      "needs_background": "light"
     },
     "output_type": "display_data"
    }
   ],
   "source": [
    "plt.figure(figsize=(20,6))\n",
    "\n",
    "plt.hist(salaries_full.values, color='lightblue', bins=20)\n",
    "plt.axvline(med1, color='k', linestyle='dashed', linewidth=2)\n",
    "plt.axvline(mean1, color='gray', linestyle='dashed', linewidth=2)\n",
    "\n",
    "plt.xlim(left=0, right=89000)\n",
    "min_ylim, max_ylim = plt.ylim()\n",
    "plt.text(mean1*1.04, max_ylim*0.76, ' Mean:\\n{:.2f}'.format(mean1))\n",
    "plt.text(med1*0.83, max_ylim*0.76, ' Median:\\n{:.2f}'.format(med1))\n",
    "plt.xlabel('Зарплата (руб.)')\n",
    "plt.title('Смоделированное распределение зарплат по России (10.2019)');"
   ]
  },
  {
   "cell_type": "markdown",
   "metadata": {},
   "source": [
    "9. Построим функцию эмпирического распределения зарплат"
   ]
  },
  {
   "cell_type": "code",
   "execution_count": 58,
   "metadata": {},
   "outputs": [],
   "source": [
    "def ecdf(data):\n",
    "    \"\"\"Compute ECDF for a one-dimensional array of measurements.\"\"\"\n",
    "    # Number of data points: n\n",
    "    n = len(data)\n",
    "\n",
    "    # x-data for the ECDF: x\n",
    "    x = np.sort(data)\n",
    "\n",
    "    # y-data for the ECDF: y\n",
    "    y = np.arange(1, n+1) / n\n",
    "\n",
    "    return x, y"
   ]
  },
  {
   "cell_type": "code",
   "execution_count": 393,
   "metadata": {},
   "outputs": [
    {
     "data": {
      "image/png": "[encoded data removed]",
      "text/plain": [
       "<Figure size 864x432 with 1 Axes>"
      ]
     },
     "metadata": {
      "needs_background": "light"
     },
     "output_type": "display_data"
    }
   ],
   "source": [
    "x, y = ecdf(salaries_full)\n",
    "\n",
    "# Generate plot\n",
    "plt.figure(figsize=(12,6))\n",
    "plt.plot(x, y, marker='.', linestyle= 'none', color='steelblue')\n",
    "\n",
    "# Label the axes\n",
    "plt.xlabel('Зарплата (руб.)')\n",
    "plt.ylabel(\"ECDF\")\n",
    "plt.title('Эмпирическая кумулятивная функция распределения зарплат по стране')\n",
    "\n",
    "# Display the plot\n",
    "plt.xlim(left=0, right=100000)\n",
    "plt.show();"
   ]
  },
  {
   "cell_type": "markdown",
   "metadata": {},
   "source": [
    "10. Как мы получили, несмотря на то, что основные характеристики, выявленные из данных о средних зарплатах и из симулированных данных примерно одинаковые, распределение из симулированных данных более похоже на настоящее, хотя все ещё имеет отрезки, которые оставляют вопросы. Например, возможно ли такая большая доля людей со сверхвысокими доходами. Но это уже выходит за рамки исследования."
   ]
  },
  {
   "cell_type": "code",
   "execution_count": null,
   "metadata": {},
   "outputs": [],
   "source": []
  }
 ],
 "metadata": {
  "kernelspec": {
   "display_name": "Python 3",
   "language": "python",
   "name": "python3"
  },
  "language_info": {
   "codemirror_mode": {
    "name": "ipython",
    "version": 3
   },
   "file_extension": ".py",
   "mimetype": "text/x-python",
   "name": "python",
   "nbconvert_exporter": "python",
   "pygments_lexer": "ipython3",
   "version": "3.7.4"
  }
 },
 "nbformat": 4,
 "nbformat_minor": 2
}
